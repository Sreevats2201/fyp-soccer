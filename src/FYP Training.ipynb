{
 "cells": [
  {
   "cell_type": "markdown",
   "metadata": {},
   "source": [
    "## Principal component Analysis"
   ]
  },
  {
   "cell_type": "code",
   "execution_count": 254,
   "metadata": {},
   "outputs": [
    {
     "name": "stdout",
     "output_type": "stream",
     "text": [
      "(5400, 2048)\n",
      "(5400, 512)\n"
     ]
    }
   ],
   "source": [
    "from sklearn.decomposition import PCA\n",
    "import numpy as np\n",
    "from tqdm import tqdm\n",
    "from keras import optimizers\n",
    "\n",
    "\n",
    "pca = PCA(n_components=512)\n",
    "array = np.load('1_ResNET.npy')\n",
    "print(array.shape)\n",
    "pca_arr = pca.fit_transform(array)\n",
    "np.save('1_ResNET_PCA512.npy', pca_arr)\n",
    "print(pca_arr.shape)"
   ]
  },
  {
   "cell_type": "code",
   "execution_count": 255,
   "metadata": {},
   "outputs": [
    {
     "name": "stdout",
     "output_type": "stream",
     "text": [
      "[[1.4630162  0.06204205 4.4352226  ... 1.5256827  3.5007942  0.        ]\n",
      " [1.3390025  0.05157435 4.769183   ... 0.67852765 1.8540585  0.21820806]\n",
      " [0.53878206 0.01563736 5.3364444  ... 0.36709633 3.5641797  0.01204965]\n",
      " ...\n",
      " [0.         0.13242404 4.908689   ... 2.4691331  1.3422186  0.20065752]\n",
      " [0.         0.08716917 4.3659477  ... 2.1971464  1.4559647  0.1773672 ]\n",
      " [0.         0.07030997 3.5072024  ... 3.0104277  0.9120427  0.00837918]] (5400, 2048)\n"
     ]
    }
   ],
   "source": [
    "print(array, array.shape)"
   ]
  },
  {
   "cell_type": "code",
   "execution_count": 256,
   "metadata": {},
   "outputs": [
    {
     "name": "stdout",
     "output_type": "stream",
     "text": [
      "[[-5.80803347e+00  1.26974983e+01  5.84326935e+00 ... -2.00470481e-02\n",
      "  -1.66816667e-01 -1.17484175e-01]\n",
      " [-9.21681702e-01  1.89238224e+01  2.78410482e+00 ...  4.83036846e-01\n",
      "  -3.70327920e-01 -2.86788911e-01]\n",
      " [ 8.03594708e-01  1.97798786e+01 -2.23761988e+00 ...  2.85647511e-01\n",
      "  -2.22842529e-01  6.07649505e-01]\n",
      " ...\n",
      " [-1.23722334e+01 -3.91646206e-01 -2.03146210e+01 ... -1.07324064e-01\n",
      "   8.55150968e-02 -3.56993735e-01]\n",
      " [-1.41052542e+01 -2.34798503e+00 -1.80075951e+01 ...  1.19628981e-01\n",
      "   2.13056114e-02 -2.79942691e-01]\n",
      " [-1.31388531e+01  8.74109864e-01 -1.76793690e+01 ... -1.00771682e-02\n",
      "   3.32442701e-01 -1.53598383e-01]] (5400, 512)\n"
     ]
    }
   ],
   "source": [
    "print(pca_arr, pca_arr.shape)"
   ]
  },
  {
   "cell_type": "markdown",
   "metadata": {
    "heading_collapsed": true
   },
   "source": [
    "## Initializing Directories"
   ]
  },
  {
   "cell_type": "code",
   "execution_count": 13,
   "metadata": {
    "collapsed": true,
    "hidden": true
   },
   "outputs": [],
   "source": [
    "import numpy as np\n",
    "import json\n",
    "import os\n",
    "import pickle"
   ]
  },
  {
   "cell_type": "markdown",
   "metadata": {
    "hidden": true
   },
   "source": [
    " Defining the folders and the file names to import"
   ]
  },
  {
   "cell_type": "code",
   "execution_count": 52,
   "metadata": {
    "hidden": true
   },
   "outputs": [],
   "source": [
    "FEAT_FOLDER = 'data/features/'\n",
    "LABEL_FOLDER = 'data/labels'\n",
    "\n",
    "FEAT_FILE_1 = '1_ResNET_PCA512.npy'\n",
    "FEAT_FILE_2 = '2_ResNET_PCA512.npy'\n",
    "\n",
    "FEAT_FILE = 'feat.pickle'\n",
    "LABEL_FILE = 'label.pickle'\n",
    "\n",
    "MODEL = r'C:\\Users\\ranja\\Desktop\\Notebooks\\SoccerNet-code-master\\SoccerNet-code-master\\src\\feature_extraction\\model.json'\n",
    "WEIGHTS = r'C:\\Users\\ranja\\Desktop\\Notebooks\\SoccerNet-code-master\\SoccerNet-code-master\\src\\feature_extraction\\model.h5'"
   ]
  },
  {
   "cell_type": "markdown",
   "metadata": {
    "hidden": true
   },
   "source": [
    "Checking the contents of the folder"
   ]
  },
  {
   "cell_type": "code",
   "execution_count": 15,
   "metadata": {
    "hidden": true
   },
   "outputs": [
    {
     "data": {
      "text/plain": [
       "['england_epl',\n",
       " 'europe_uefa-champions-league',\n",
       " 'france_ligue-1',\n",
       " 'germany_bundesliga',\n",
       " 'italy_serie-a',\n",
       " 'spain_laliga']"
      ]
     },
     "execution_count": 15,
     "metadata": {},
     "output_type": "execute_result"
    }
   ],
   "source": [
    "os.listdir(LABEL_FOLDER) "
   ]
  },
  {
   "cell_type": "markdown",
   "metadata": {
    "hidden": true
   },
   "source": [
    "Creating en empty list that will hold the locations of <br>\n",
    " - all the features extracted\n",
    " - all the labels parsed\n",
    "    \n"
   ]
  },
  {
   "cell_type": "code",
   "execution_count": 16,
   "metadata": {
    "collapsed": true,
    "hidden": true
   },
   "outputs": [],
   "source": [
    "FEAT_FOLD_LIST = []\n",
    "LABEL_FOLD_LIST = []"
   ]
  },
  {
   "cell_type": "markdown",
   "metadata": {
    "heading_collapsed": true
   },
   "source": [
    "## Collecting Feature and Label Directories"
   ]
  },
  {
   "cell_type": "markdown",
   "metadata": {
    "hidden": true
   },
   "source": [
    "Executing a tree walk through the features folder, to find all the folders that contain the feature"
   ]
  },
  {
   "cell_type": "code",
   "execution_count": 17,
   "metadata": {
    "collapsed": true,
    "hidden": true
   },
   "outputs": [],
   "source": [
    "for root, subdirs, files in os.walk(FEAT_FOLDER):\n",
    "    if files:\n",
    "        for f in files:\n",
    "            if f.endswith('.npy') and root not in FEAT_FOLD_LIST:\n",
    "                FEAT_FOLD_LIST += [root]"
   ]
  },
  {
   "cell_type": "code",
   "execution_count": 18,
   "metadata": {
    "hidden": true
   },
   "outputs": [
    {
     "data": {
      "text/plain": [
       "['data/features/england_epl\\\\2014-2015\\\\2015-02-21 - 18-00 Chelsea 1 - 1 Burnley',\n",
       " 'data/features/england_epl\\\\2014-2015\\\\2015-02-21 - 18-00 Crystal Palace 1 - 2 Arsenal']"
      ]
     },
     "execution_count": 18,
     "metadata": {},
     "output_type": "execute_result"
    }
   ],
   "source": [
    "FEAT_FOLD_LIST[:2]"
   ]
  },
  {
   "cell_type": "markdown",
   "metadata": {
    "hidden": true
   },
   "source": [
    "Executing a tree walk through the labels folder, to find all the folders that contain the labels"
   ]
  },
  {
   "cell_type": "code",
   "execution_count": 19,
   "metadata": {
    "collapsed": true,
    "hidden": true
   },
   "outputs": [],
   "source": [
    "for root, subdirs, files in os.walk(LABEL_FOLDER):\n",
    "    if files:\n",
    "        for f in files:\n",
    "            if f.endswith('.json') and root not in LABEL_FOLD_LIST:\n",
    "                LABEL_FOLD_LIST += [root]"
   ]
  },
  {
   "cell_type": "code",
   "execution_count": 20,
   "metadata": {
    "hidden": true
   },
   "outputs": [
    {
     "data": {
      "text/plain": [
       "['data/labels\\\\england_epl\\\\2014-2015\\\\2015-02-21 - 18-00 Chelsea 1 - 1 Burnley',\n",
       " 'data/labels\\\\england_epl\\\\2014-2015\\\\2015-02-21 - 18-00 Crystal Palace 1 - 2 Arsenal']"
      ]
     },
     "execution_count": 20,
     "metadata": {},
     "output_type": "execute_result"
    }
   ],
   "source": [
    "LABEL_FOLD_LIST[:2]"
   ]
  },
  {
   "cell_type": "markdown",
   "metadata": {
    "heading_collapsed": true
   },
   "source": [
    "## Finding features for labels"
   ]
  },
  {
   "cell_type": "markdown",
   "metadata": {
    "hidden": true
   },
   "source": [
    "Initializing certain static variables"
   ]
  },
  {
   "cell_type": "code",
   "execution_count": 21,
   "metadata": {
    "collapsed": true,
    "hidden": true
   },
   "outputs": [],
   "source": [
    "#to determine how many events to iterate through\n",
    "FILE_LEN = len(FEAT_FOLD_LIST)\n",
    "\n",
    "#Type of Events taken from labels and assigned to variables\n",
    "GOAL = \"soccer-ball\"\n",
    "FOUL = \"y-card\"\n",
    "SUBS = \"substitution-in\"\n",
    "NO_EVENT = \"no\"\n",
    "\n",
    "#This variable determines how many features around the index we want to take\n",
    "ws = 10 #5 second window, 5/60 * 2 * 60 = 10"
   ]
  },
  {
   "cell_type": "markdown",
   "metadata": {
    "hidden": true
   },
   "source": [
    "Inititalizing features, making them 512 size"
   ]
  },
  {
   "cell_type": "code",
   "execution_count": 22,
   "metadata": {
    "collapsed": true,
    "hidden": true
   },
   "outputs": [],
   "source": [
    "GOAL_FEATURES = np.empty([1, 512])\n",
    "FOUL_FEATURES = np.empty([1, 512])\n",
    "SUBS_FEATURES = np.empty([1, 512])\n",
    "NO_FEATURES = np.empty([1, 512])"
   ]
  },
  {
   "cell_type": "markdown",
   "metadata": {
    "hidden": true
   },
   "source": [
    "Defining helper functions"
   ]
  },
  {
   "cell_type": "code",
   "execution_count": 23,
   "metadata": {
    "collapsed": true,
    "hidden": true
   },
   "outputs": [],
   "source": [
    "def get_features(folder):\n",
    "    \n",
    "    \"\"\"\n",
    "    function : to find and give back the combined set of resnet features\n",
    "    input : the location of the features\n",
    "    output : features for the entire match\n",
    "    \"\"\"\n",
    "    \n",
    "    files = os.listdir(folder)\n",
    "    if FEAT_FILE_1 not in files or FEAT_FILE_2 not in files:\n",
    "        return None\n",
    "    first_half = np.load(folder + '/' + FEAT_FILE_1)\n",
    "    second_half = np.load(folder + '/' + FEAT_FILE_2)\n",
    "    return np.concatenate((first_half, second_half))\n",
    "\n",
    "def get_labels(folder):\n",
    "    \n",
    "    \"\"\"\n",
    "    function : to find the labels and return\n",
    "    inpupt : location of labels\n",
    "    output : labels in json format\n",
    "    \"\"\"\n",
    "    \n",
    "    file = os.listdir(folder)\n",
    "    with open(folder + '/' + file[0]) as json_file:\n",
    "        data = json.load(json_file)\n",
    "    return data\n",
    "\n",
    "def parse_labels(labels, size):\n",
    "    \n",
    "    \"\"\"\n",
    "    function : to return the array of indices of every event type\n",
    "    input : labels in json format and the size of the features (length)\n",
    "    output : a dictionary containing an array of values for every event type\n",
    "    \"\"\"\n",
    "    \n",
    "    annots = labels['annotations']\n",
    "    \n",
    "    dict_events = {}\n",
    "    goal_time = []\n",
    "    foul_time = []\n",
    "    subs_time = []\n",
    "    \n",
    "    for i in range(len(annots)):\n",
    "        if annots[i]['label'] == GOAL:\n",
    "            time = annots[i]['gameTime']\n",
    "            vals = time.split('-')\n",
    "            final_time = int(vals[0]) * int(vals[1][0:3])\n",
    "            final_time = final_time * 120\n",
    "            if final_time > size:\n",
    "                final_time = size - ws\n",
    "            goal_time += [final_time]\n",
    "\n",
    "        if annots[i]['label'] == FOUL:\n",
    "            time = annots[i]['gameTime']\n",
    "            vals = time.split('-')\n",
    "            final_time = int(vals[0]) * int(vals[1][0:3])\n",
    "            final_time = final_time * 120\n",
    "            if final_time > size:\n",
    "                final_time = size - ws\n",
    "            foul_time += [final_time]\n",
    "            \n",
    "        if annots[i]['label'] == SUBS:\n",
    "            time = annots[i]['gameTime']\n",
    "            vals = time.split('-')\n",
    "            final_time = int(vals[0]) * int(vals[1][0:3])\n",
    "            final_time = final_time * 120\n",
    "            if final_time > size:\n",
    "                final_time = size - ws            \n",
    "            subs_time += [final_time]\n",
    "            \n",
    "    dict_events[GOAL] = goal_time\n",
    "    dict_events[FOUL] = foul_time\n",
    "    dict_events[SUBS] = subs_time\n",
    "    return dict_events\n",
    "\n",
    "def interpolate(arr, ws):\n",
    "    \n",
    "    \"\"\"\n",
    "    function : to find features on either side of the value\n",
    "    input : the array of values and the window size\n",
    "    output : modified array of indices\n",
    "    \"\"\"\n",
    "    \n",
    "    new_arr = [list(range(x-ws, x+1)) for x in arr]\n",
    "    merged_list = []\n",
    "\n",
    "    for l in new_arr:\n",
    "        merged_list += l\n",
    "    return merged_list"
   ]
  },
  {
   "cell_type": "markdown",
   "metadata": {
    "hidden": true
   },
   "source": [
    "Aggregating features of a particular event into respective arrays"
   ]
  },
  {
   "cell_type": "code",
   "execution_count": 26,
   "metadata": {
    "hidden": true
   },
   "outputs": [
    {
     "name": "stderr",
     "output_type": "stream",
     "text": [
      "100%|████████████████████████████████████████████████████████████████████████████████| 100/100 [02:29<00:00,  1.50s/it]\n"
     ]
    }
   ],
   "source": [
    "for i in tqdm(range(0, 100)):\n",
    "    feat_dir = FEAT_FOLD_LIST[i]\n",
    "    label_dir = LABEL_FOLD_LIST[i]\n",
    "    \n",
    "    features = get_features(feat_dir)\n",
    "    if features is None:\n",
    "        continue\n",
    "        \n",
    "    features_small = features\n",
    "    feat_shape = list(range(features.shape[0]))\n",
    "    \n",
    "    labels = get_labels(label_dir)\n",
    "    \n",
    "    events = parse_labels(labels, features.shape[0])\n",
    "    \n",
    "    g = events[GOAL]\n",
    "    f = events[FOUL]\n",
    "    s = events[SUBS]\n",
    "    \n",
    "    num = interpolate(g, ws) + interpolate(f, ws) + interpolate(s, ws)\n",
    "    #print(num) \n",
    "    \n",
    "    y = [not x in num for x in feat_shape]\n",
    "    \n",
    "    GOAL_FEATURES = np.concatenate([GOAL_FEATURES, features[interpolate(g, ws)]])\n",
    "    FOUL_FEATURES = np.concatenate([FOUL_FEATURES, features[interpolate(f, ws)]])\n",
    "    SUBS_FEATURES = np.concatenate([SUBS_FEATURES, features[interpolate(s, ws)]])\n",
    "    NO_FEATURES = np.concatenate([NO_FEATURES, features_small[y]])"
   ]
  },
  {
   "cell_type": "markdown",
   "metadata": {
    "hidden": true
   },
   "source": [
    "Checking the size..."
   ]
  },
  {
   "cell_type": "code",
   "execution_count": 27,
   "metadata": {
    "hidden": true
   },
   "outputs": [
    {
     "name": "stdout",
     "output_type": "stream",
     "text": [
      "(2883, 512) (3400, 512) (5303, 512) (966182, 512)\n"
     ]
    }
   ],
   "source": [
    "print(GOAL_FEATURES.shape, FOUL_FEATURES.shape, SUBS_FEATURES.shape, NO_FEATURES.shape)"
   ]
  },
  {
   "cell_type": "markdown",
   "metadata": {},
   "source": [
    "## Training"
   ]
  },
  {
   "cell_type": "markdown",
   "metadata": {},
   "source": [
    "Making the necessary imports"
   ]
  },
  {
   "cell_type": "code",
   "execution_count": 28,
   "metadata": {},
   "outputs": [],
   "source": [
    "from keras.models import Sequential\n",
    "from keras.layers import Dense, Activation, Dropout\n",
    "from keras.utils import np_utils\n",
    "from sklearn.model_selection import cross_val_score\n",
    "from sklearn.model_selection import KFold\n",
    "from sklearn.preprocessing import LabelEncoder\n",
    "from keras.wrappers.scikit_learn import KerasClassifier\n",
    "import tensorflow as tf\n",
    "from sklearn.model_selection import train_test_split\n",
    "from sklearn.metrics import accuracy_score"
   ]
  },
  {
   "cell_type": "markdown",
   "metadata": {},
   "source": [
    "### Creating Train and Test Features"
   ]
  },
  {
   "cell_type": "code",
   "execution_count": 29,
   "metadata": {},
   "outputs": [
    {
     "name": "stdout",
     "output_type": "stream",
     "text": [
      "(11532, 512) (11532,)\n"
     ]
    }
   ],
   "source": [
    "# Find the minimum length of all the three event feature types\n",
    "n = min(GOAL_FEATURES.shape[0], FOUL_FEATURES.shape[0], SUBS_FEATURES.shape[0], NO_FEATURES.shape[0])\n",
    "\n",
    "#Create target class variable of length n\n",
    "g_class = [GOAL] * n\n",
    "f_class = [FOUL] * n\n",
    "s_class = [SUBS] * n\n",
    "n_class = [NO_EVENT] *n\n",
    "\n",
    "#Ensure that the train features and target labels are of the same length\n",
    "TRAIN_FEATURES = np.concatenate([GOAL_FEATURES[:n], FOUL_FEATURES[:n], SUBS_FEATURES[:n], NO_FEATURES[:n]])\n",
    "#TRAIN_FEATURES = np.concatenate([GOAL_FEATURES[:n], FOUL_FEATURES[:n], SUBS_FEATURES[:n]])\n",
    "\n",
    "TARGET_LABELS = np.concatenate([g_class, f_class, s_class, n_class])\n",
    "#TARGET_LABELS = np.concatenate([g_class, f_class, s_class])\n",
    "\n",
    "print(TRAIN_FEATURES.shape, TARGET_LABELS.shape)"
   ]
  },
  {
   "cell_type": "markdown",
   "metadata": {},
   "source": [
    "#### Store"
   ]
  },
  {
   "cell_type": "code",
   "execution_count": 61,
   "metadata": {
    "collapsed": true
   },
   "outputs": [],
   "source": [
    "feat_out = open(FEAT_FILE, \"wb\")\n",
    "\n",
    "pickle.dump(TRAIN_FEATURES, feat_out)\n",
    "feat_out.close()"
   ]
  },
  {
   "cell_type": "markdown",
   "metadata": {},
   "source": [
    "#### Load"
   ]
  },
  {
   "cell_type": "code",
   "execution_count": 62,
   "metadata": {
    "collapsed": true
   },
   "outputs": [],
   "source": [
    "pickle_in = open(FEAT_FILE,\"rb\")\n",
    "\n",
    "TRAIN_FEATURES = pickle.load(pickle_in)"
   ]
  },
  {
   "cell_type": "markdown",
   "metadata": {},
   "source": [
    "### Label Enconding and Test Features"
   ]
  },
  {
   "cell_type": "markdown",
   "metadata": {},
   "source": [
    "Encoding the target varibles to make it suitable for training"
   ]
  },
  {
   "cell_type": "code",
   "execution_count": 32,
   "metadata": {},
   "outputs": [
    {
     "data": {
      "text/plain": [
       "(11532, 4)"
      ]
     },
     "execution_count": 32,
     "metadata": {},
     "output_type": "execute_result"
    }
   ],
   "source": [
    "encoder = LabelEncoder()\n",
    "encoder.fit(TARGET_LABELS)\n",
    "encoded_Y = encoder.transform(TARGET_LABELS)\n",
    "# convert integers to dummy variables (i.e. one hot encoded)\n",
    "y = np_utils.to_categorical(encoded_Y)\n",
    "y.shape"
   ]
  },
  {
   "cell_type": "code",
   "execution_count": 33,
   "metadata": {
    "collapsed": true
   },
   "outputs": [],
   "source": [
    "X_train, X_test, y_train, y_test = train_test_split(TRAIN_FEATURES, y, test_size=0.2, random_state=42)"
   ]
  },
  {
   "cell_type": "markdown",
   "metadata": {},
   "source": [
    "### Defining the model"
   ]
  },
  {
   "cell_type": "code",
   "execution_count": 218,
   "metadata": {
    "collapsed": true
   },
   "outputs": [],
   "source": [
    "def baseline_model():\n",
    "    # create model\n",
    "    model = Sequential()\n",
    "    \n",
    "    #512 inputs to 8 neurons\n",
    "    model.add(Dense(27, input_dim=512, activation='relu'))\n",
    "    \n",
    "    #model.add(Dropout(0.5))\n",
    "    \n",
    "    model.add(Dense(19, input_dim=27, activation='relu'))\n",
    "    \n",
    "    model.add(Dense(11, input_dim=19, activation='relu'))\n",
    "    \n",
    "    \n",
    "    model.add(Dense(7, input_dim=11, activation='relu'))\n",
    "\n",
    "    #Final 4 categories, so again three dense layers\n",
    "    model.add(Dense(4))\n",
    "    \n",
    "    #Add softmax activation function\n",
    "    model.add(Activation(tf.nn.softmax))\n",
    "    \n",
    "    # Compile model\n",
    "    \n",
    "    adam = optimizers.Adam(lr=0.01, beta_1=0.9, beta_2=0.999, epsilon=None, decay=0.0, amsgrad=False)\n",
    "    \n",
    "    model.compile(loss='categorical_crossentropy', optimizer=adam, metrics=['accuracy'])\n",
    "    \n",
    "    return model"
   ]
  },
  {
   "cell_type": "markdown",
   "metadata": {},
   "source": [
    "### Fitting"
   ]
  },
  {
   "cell_type": "markdown",
   "metadata": {},
   "source": [
    "Creating an instance of the model, and training"
   ]
  },
  {
   "cell_type": "code",
   "execution_count": 219,
   "metadata": {},
   "outputs": [],
   "source": [
    "model = baseline_model()"
   ]
  },
  {
   "cell_type": "code",
   "execution_count": 213,
   "metadata": {
    "collapsed": true
   },
   "outputs": [],
   "source": [
    "model.optimizer.lr = 0.001"
   ]
  },
  {
   "cell_type": "code",
   "execution_count": 229,
   "metadata": {},
   "outputs": [
    {
     "name": "stdout",
     "output_type": "stream",
     "text": [
      "Epoch 1/10\n",
      "9225/9225 [==============================] - ETA: 0s - loss: 0.0487 - acc: 0.968 - ETA: 0s - loss: 0.1319 - acc: 0.951 - ETA: 0s - loss: 0.1395 - acc: 0.952 - ETA: 0s - loss: 0.1490 - acc: 0.947 - ETA: 0s - loss: 0.1656 - acc: 0.944 - ETA: 0s - loss: 0.1649 - acc: 0.943 - ETA: 0s - loss: 0.1584 - acc: 0.944 - ETA: 0s - loss: 0.1580 - acc: 0.945 - ETA: 0s - loss: 0.1582 - acc: 0.944 - ETA: 0s - loss: 0.1620 - acc: 0.943 - 0s 53us/step - loss: 0.1603 - acc: 0.9441\n",
      "Epoch 2/10\n",
      "9225/9225 [==============================] - ETA: 1s - loss: 0.0686 - acc: 0.968 - ETA: 0s - loss: 0.1808 - acc: 0.947 - ETA: 0s - loss: 0.1720 - acc: 0.949 - ETA: 0s - loss: 0.1655 - acc: 0.952 - ETA: 0s - loss: 0.1558 - acc: 0.954 - ETA: 0s - loss: 0.1575 - acc: 0.954 - ETA: 0s - loss: 0.1565 - acc: 0.953 - ETA: 0s - loss: 0.1592 - acc: 0.951 - ETA: 0s - loss: 0.1555 - acc: 0.951 - ETA: 0s - loss: 0.1584 - acc: 0.949 - 0s 52us/step - loss: 0.1582 - acc: 0.9493\n",
      "Epoch 3/10\n",
      "9225/9225 [==============================] - ETA: 0s - loss: 0.0590 - acc: 1.000 - ETA: 0s - loss: 0.1075 - acc: 0.966 - ETA: 0s - loss: 0.1294 - acc: 0.959 - ETA: 0s - loss: 0.1181 - acc: 0.964 - ETA: 0s - loss: 0.1308 - acc: 0.958 - ETA: 0s - loss: 0.1421 - acc: 0.957 - ETA: 0s - loss: 0.1450 - acc: 0.955 - ETA: 0s - loss: 0.1434 - acc: 0.956 - ETA: 0s - loss: 0.1468 - acc: 0.954 - ETA: 0s - loss: 0.1459 - acc: 0.953 - ETA: 0s - loss: 0.1473 - acc: 0.953 - 1s 60us/step - loss: 0.1515 - acc: 0.9518\n",
      "Epoch 4/10\n",
      "9225/9225 [==============================] - ETA: 0s - loss: 0.1834 - acc: 0.937 - ETA: 0s - loss: 0.1472 - acc: 0.948 - ETA: 0s - loss: 0.1346 - acc: 0.954 - ETA: 0s - loss: 0.1423 - acc: 0.952 - ETA: 0s - loss: 0.1422 - acc: 0.951 - ETA: 0s - loss: 0.1430 - acc: 0.952 - ETA: 0s - loss: 0.1442 - acc: 0.952 - ETA: 0s - loss: 0.1486 - acc: 0.951 - ETA: 0s - loss: 0.1497 - acc: 0.950 - 0s 46us/step - loss: 0.1492 - acc: 0.9506\n",
      "Epoch 5/10\n",
      "9225/9225 [==============================] - ETA: 1s - loss: 0.0294 - acc: 1.000 - ETA: 0s - loss: 0.0888 - acc: 0.964 - ETA: 0s - loss: 0.0990 - acc: 0.965 - ETA: 0s - loss: 0.1088 - acc: 0.962 - ETA: 0s - loss: 0.1458 - acc: 0.955 - ETA: 0s - loss: 0.1781 - acc: 0.950 - ETA: 0s - loss: 0.1980 - acc: 0.945 - ETA: 0s - loss: 0.2107 - acc: 0.941 - ETA: 0s - loss: 0.2142 - acc: 0.938 - ETA: 0s - loss: 0.2160 - acc: 0.937 - ETA: 0s - loss: 0.2153 - acc: 0.935 - 1s 57us/step - loss: 0.2144 - acc: 0.9360\n",
      "Epoch 6/10\n",
      "9225/9225 [==============================] - ETA: 1s - loss: 0.0814 - acc: 0.968 - ETA: 0s - loss: 0.1515 - acc: 0.951 - ETA: 0s - loss: 0.1646 - acc: 0.950 - ETA: 0s - loss: 0.1687 - acc: 0.946 - ETA: 0s - loss: 0.1644 - acc: 0.948 - ETA: 0s - loss: 0.1773 - acc: 0.943 - ETA: 0s - loss: 0.1836 - acc: 0.940 - ETA: 0s - loss: 0.1825 - acc: 0.940 - ETA: 0s - loss: 0.1811 - acc: 0.940 - 0s 48us/step - loss: 0.1840 - acc: 0.9388\n",
      "Epoch 7/10\n",
      "9225/9225 [==============================] - ETA: 1s - loss: 0.1409 - acc: 0.937 - ETA: 0s - loss: 0.1222 - acc: 0.963 - ETA: 0s - loss: 0.1453 - acc: 0.955 - ETA: 0s - loss: 0.1472 - acc: 0.950 - ETA: 0s - loss: 0.1458 - acc: 0.950 - ETA: 0s - loss: 0.1416 - acc: 0.951 - ETA: 0s - loss: 0.1489 - acc: 0.949 - ETA: 0s - loss: 0.1527 - acc: 0.947 - ETA: 0s - loss: 0.1565 - acc: 0.947 - 0s 50us/step - loss: 0.1573 - acc: 0.9473\n",
      "Epoch 8/10\n",
      "9225/9225 [==============================] - ETA: 1s - loss: 0.0440 - acc: 0.968 - ETA: 0s - loss: 0.0999 - acc: 0.964 - ETA: 0s - loss: 0.1126 - acc: 0.962 - ETA: 0s - loss: 0.1261 - acc: 0.956 - ETA: 0s - loss: 0.1237 - acc: 0.957 - ETA: 0s - loss: 0.1204 - acc: 0.957 - ETA: 0s - loss: 0.1228 - acc: 0.956 - ETA: 0s - loss: 0.1304 - acc: 0.954 - ETA: 0s - loss: 0.1243 - acc: 0.957 - ETA: 0s - loss: 0.1236 - acc: 0.957 - ETA: 0s - loss: 0.1212 - acc: 0.958 - ETA: 0s - loss: 0.1244 - acc: 0.958 - ETA: 0s - loss: 0.1250 - acc: 0.957 - ETA: 0s - loss: 0.1269 - acc: 0.956 - 1s 73us/step - loss: 0.1269 - acc: 0.9562\n",
      "Epoch 9/10\n",
      "9225/9225 [==============================] - ETA: 0s - loss: 0.0357 - acc: 1.000 - ETA: 0s - loss: 0.0950 - acc: 0.970 - ETA: 0s - loss: 0.1051 - acc: 0.961 - ETA: 0s - loss: 0.1005 - acc: 0.964 - ETA: 0s - loss: 0.1069 - acc: 0.962 - ETA: 0s - loss: 0.1127 - acc: 0.959 - ETA: 0s - loss: 0.1189 - acc: 0.959 - ETA: 0s - loss: 0.1195 - acc: 0.959 - ETA: 0s - loss: 0.1255 - acc: 0.957 - ETA: 0s - loss: 0.1271 - acc: 0.957 - 1s 54us/step - loss: 0.1250 - acc: 0.9575\n",
      "Epoch 10/10\n",
      "9225/9225 [==============================] - ETA: 0s - loss: 0.1691 - acc: 0.968 - ETA: 0s - loss: 0.0826 - acc: 0.972 - ETA: 0s - loss: 0.1132 - acc: 0.965 - ETA: 0s - loss: 0.1166 - acc: 0.960 - ETA: 0s - loss: 0.1138 - acc: 0.962 - ETA: 0s - loss: 0.1193 - acc: 0.961 - ETA: 0s - loss: 0.1246 - acc: 0.960 - ETA: 0s - loss: 0.1275 - acc: 0.958 - ETA: 0s - loss: 0.1309 - acc: 0.957 - ETA: 0s - loss: 0.1309 - acc: 0.956 - ETA: 0s - loss: 0.1320 - acc: 0.956 - 1s 61us/step - loss: 0.1318 - acc: 0.9560\n"
     ]
    },
    {
     "data": {
      "text/plain": [
       "<keras.callbacks.History at 0x1e5ba6b0a90>"
      ]
     },
     "execution_count": 229,
     "metadata": {},
     "output_type": "execute_result"
    }
   ],
   "source": [
    "model.fit(X_train, y_train, epochs=10)"
   ]
  },
  {
   "cell_type": "markdown",
   "metadata": {},
   "source": [
    "## Storing models"
   ]
  },
  {
   "cell_type": "code",
   "execution_count": 228,
   "metadata": {},
   "outputs": [
    {
     "name": "stdout",
     "output_type": "stream",
     "text": [
      "Saved model to disk\n"
     ]
    }
   ],
   "source": [
    "model_json = model.to_json()\n",
    "with open(MODEL, \"w\") as json_file:\n",
    "    json_file.write(model_json)\n",
    "# serialize weights to HDF5\n",
    "model.save_weights(WEIGHTS)\n",
    "print(\"Saved model to disk\")"
   ]
  },
  {
   "cell_type": "code",
   "execution_count": 174,
   "metadata": {},
   "outputs": [
    {
     "name": "stdout",
     "output_type": "stream",
     "text": [
      "Loaded model from disk\n"
     ]
    }
   ],
   "source": [
    "from keras.models import model_from_json\n",
    "\n",
    "\n",
    "json_file = open(MODEL, 'r')\n",
    "loaded_model_json = json_file.read()\n",
    "json_file.close()\n",
    "loaded_model = model_from_json(loaded_model_json)\n",
    "\n",
    "# load weights into new model\n",
    "loaded_model.load_weights(WEIGHTS)\n",
    "print(\"Loaded model from disk\")"
   ]
  },
  {
   "cell_type": "markdown",
   "metadata": {
    "collapsed": true
   },
   "source": [
    "## Testing"
   ]
  },
  {
   "cell_type": "markdown",
   "metadata": {},
   "source": [
    "Predicting on the test set"
   ]
  },
  {
   "cell_type": "code",
   "execution_count": 230,
   "metadata": {},
   "outputs": [
    {
     "data": {
      "text/plain": [
       "array([[9.9982077e-01, 1.7918918e-04, 2.4469303e-08, 1.0787985e-07],\n",
       "       [1.1454955e-13, 9.6298164e-01, 3.1223016e-02, 5.7953559e-03],\n",
       "       [1.0000000e+00, 8.8053530e-11, 7.8497283e-21, 9.5831262e-19],\n",
       "       [9.8867692e-10, 5.7549255e-06, 9.9999428e-01, 9.0085066e-12],\n",
       "       [1.0000000e+00, 3.4630943e-08, 1.0802436e-15, 3.3647147e-14]],\n",
       "      dtype=float32)"
      ]
     },
     "execution_count": 230,
     "metadata": {},
     "output_type": "execute_result"
    }
   ],
   "source": [
    "y_pred = model.predict(X_test)\n",
    "y_pred[:5]"
   ]
  },
  {
   "cell_type": "code",
   "execution_count": 231,
   "metadata": {},
   "outputs": [
    {
     "data": {
      "text/plain": [
       "array([[1., 0., 0., 0.],\n",
       "       [0., 1., 0., 0.],\n",
       "       [1., 0., 0., 0.],\n",
       "       [0., 0., 1., 0.],\n",
       "       [1., 0., 0., 0.]], dtype=float32)"
      ]
     },
     "execution_count": 231,
     "metadata": {},
     "output_type": "execute_result"
    }
   ],
   "source": [
    "y_test[:5]"
   ]
  },
  {
   "cell_type": "markdown",
   "metadata": {},
   "source": [
    "Converting the test set to 1's and 0's"
   ]
  },
  {
   "cell_type": "code",
   "execution_count": 232,
   "metadata": {},
   "outputs": [
    {
     "data": {
      "text/plain": [
       "array([[1, 0, 0, 0],\n",
       "       [0, 1, 0, 0],\n",
       "       [1, 0, 0, 0],\n",
       "       [0, 0, 1, 0],\n",
       "       [1, 0, 0, 0]])"
      ]
     },
     "execution_count": 232,
     "metadata": {},
     "output_type": "execute_result"
    }
   ],
   "source": [
    "y_pred = (y_pred == y_pred.max(axis=1)[:,None]).astype(int)\n",
    "y_pred[:5]"
   ]
  },
  {
   "cell_type": "code",
   "execution_count": 233,
   "metadata": {},
   "outputs": [
    {
     "data": {
      "text/plain": [
       "0.7754659731252709"
      ]
     },
     "execution_count": 233,
     "metadata": {},
     "output_type": "execute_result"
    }
   ],
   "source": [
    " accuracy_score(y_test, y_pred)"
   ]
  },
  {
   "cell_type": "code",
   "execution_count": 234,
   "metadata": {},
   "outputs": [
    {
     "data": {
      "text/plain": [
       "(9225, 512)"
      ]
     },
     "execution_count": 234,
     "metadata": {},
     "output_type": "execute_result"
    }
   ],
   "source": [
    "X_train.shape"
   ]
  },
  {
   "cell_type": "code",
   "execution_count": 235,
   "metadata": {},
   "outputs": [
    {
     "data": {
      "text/plain": [
       "(9225, 4)"
      ]
     },
     "execution_count": 235,
     "metadata": {},
     "output_type": "execute_result"
    }
   ],
   "source": [
    "y_train.shape"
   ]
  },
  {
   "cell_type": "markdown",
   "metadata": {},
   "source": [
    "## Accuracy Assessment"
   ]
  },
  {
   "cell_type": "code",
   "execution_count": 236,
   "metadata": {
    "collapsed": true
   },
   "outputs": [],
   "source": [
    "from sklearn.metrics import confusion_matrix\n",
    "import pandas as pd\n",
    "import matplotlib.pyplot as plt\n",
    "import seaborn as sn\n",
    "\n",
    "%matplotlib notebook"
   ]
  },
  {
   "cell_type": "code",
   "execution_count": 237,
   "metadata": {
    "collapsed": true
   },
   "outputs": [],
   "source": [
    "GOAL = \"soccer-ball\"\n",
    "FOUL = \"y-card\"\n",
    "SUBS = \"substitution-in\"\n",
    "NO_EVENT = \"no\""
   ]
  },
  {
   "cell_type": "code",
   "execution_count": 238,
   "metadata": {},
   "outputs": [],
   "source": [
    "def transform(y):\n",
    "    t = []\n",
    "    for i in range(len(y)):\n",
    "        if y[i][0] == 1:\n",
    "            t += [GOAL]\n",
    "        if y[i][1] == 1:\n",
    "            t += [FOUL]\n",
    "        if y[i][2] == 1:\n",
    "            t += [SUBS]\n",
    "        if y[i][3] == 1:\n",
    "            t += [NO_EVENT]\n",
    "    return t"
   ]
  },
  {
   "cell_type": "code",
   "execution_count": 239,
   "metadata": {},
   "outputs": [],
   "source": [
    "a = transform(y_test)\n",
    "b = transform(y_pred)"
   ]
  },
  {
   "cell_type": "code",
   "execution_count": 240,
   "metadata": {},
   "outputs": [],
   "source": [
    "cm = confusion_matrix(a, b)"
   ]
  },
  {
   "cell_type": "code",
   "execution_count": 241,
   "metadata": {},
   "outputs": [],
   "source": [
    "FP = cm.sum(axis=0) - np.diag(cm)  \n",
    "FN = cm.sum(axis=1) - np.diag(cm)\n",
    "TP = np.diag(cm)\n",
    "TN = cm.sum() - (FP + FN + TP)"
   ]
  },
  {
   "cell_type": "code",
   "execution_count": 242,
   "metadata": {},
   "outputs": [
    {
     "data": {
      "text/plain": [
       "array([128,  26, 183, 181], dtype=int64)"
      ]
     },
     "execution_count": 242,
     "metadata": {},
     "output_type": "execute_result"
    }
   ],
   "source": [
    "FP"
   ]
  },
  {
   "cell_type": "code",
   "execution_count": 243,
   "metadata": {},
   "outputs": [
    {
     "data": {
      "text/plain": [
       "array([214,  26, 132, 146], dtype=int64)"
      ]
     },
     "execution_count": 243,
     "metadata": {},
     "output_type": "execute_result"
    }
   ],
   "source": [
    "FN"
   ]
  },
  {
   "cell_type": "code",
   "execution_count": 244,
   "metadata": {},
   "outputs": [
    {
     "data": {
      "text/plain": [
       "array([382, 549, 418, 440], dtype=int64)"
      ]
     },
     "execution_count": 244,
     "metadata": {},
     "output_type": "execute_result"
    }
   ],
   "source": [
    "TP"
   ]
  },
  {
   "cell_type": "code",
   "execution_count": 245,
   "metadata": {},
   "outputs": [
    {
     "data": {
      "text/plain": [
       "array([1583, 1706, 1574, 1540], dtype=int64)"
      ]
     },
     "execution_count": 245,
     "metadata": {},
     "output_type": "execute_result"
    }
   ],
   "source": [
    "TN"
   ]
  },
  {
   "cell_type": "markdown",
   "metadata": {},
   "source": [
    "Calculating Recall"
   ]
  },
  {
   "cell_type": "code",
   "execution_count": 247,
   "metadata": {},
   "outputs": [
    {
     "name": "stdout",
     "output_type": "stream",
     "text": [
      "[0.6409396  0.95478261 0.76       0.75085324]\n"
     ]
    }
   ],
   "source": [
    "TPR = TP/(TP+FN)\n",
    "print(TPR)"
   ]
  },
  {
   "cell_type": "markdown",
   "metadata": {},
   "source": [
    "Calculating Precision"
   ]
  },
  {
   "cell_type": "code",
   "execution_count": 249,
   "metadata": {},
   "outputs": [
    {
     "data": {
      "text/plain": [
       "array([0.74901961, 0.95478261, 0.69550749, 0.70853462])"
      ]
     },
     "execution_count": 249,
     "metadata": {},
     "output_type": "execute_result"
    }
   ],
   "source": [
    "PPV = TP/(TP+FP)\n",
    "PPV"
   ]
  },
  {
   "cell_type": "markdown",
   "metadata": {},
   "source": [
    "Calculating Accuracy"
   ]
  },
  {
   "cell_type": "code",
   "execution_count": 251,
   "metadata": {},
   "outputs": [
    {
     "name": "stdout",
     "output_type": "stream",
     "text": [
      "[0.85175553 0.9774599  0.86345904 0.85825748]\n"
     ]
    }
   ],
   "source": [
    "ACC = (TP+TN)/(TP+FP+FN+TN)\n",
    "print(ACC)"
   ]
  },
  {
   "cell_type": "code",
   "execution_count": 246,
   "metadata": {},
   "outputs": [
    {
     "data": {
      "application/javascript": [
       "/* Put everything inside the global mpl namespace */\n",
       "window.mpl = {};\n",
       "\n",
       "\n",
       "mpl.get_websocket_type = function() {\n",
       "    if (typeof(WebSocket) !== 'undefined') {\n",
       "        return WebSocket;\n",
       "    } else if (typeof(MozWebSocket) !== 'undefined') {\n",
       "        return MozWebSocket;\n",
       "    } else {\n",
       "        alert('Your browser does not have WebSocket support.' +\n",
       "              'Please try Chrome, Safari or Firefox ≥ 6. ' +\n",
       "              'Firefox 4 and 5 are also supported but you ' +\n",
       "              'have to enable WebSockets in about:config.');\n",
       "    };\n",
       "}\n",
       "\n",
       "mpl.figure = function(figure_id, websocket, ondownload, parent_element) {\n",
       "    this.id = figure_id;\n",
       "\n",
       "    this.ws = websocket;\n",
       "\n",
       "    this.supports_binary = (this.ws.binaryType != undefined);\n",
       "\n",
       "    if (!this.supports_binary) {\n",
       "        var warnings = document.getElementById(\"mpl-warnings\");\n",
       "        if (warnings) {\n",
       "            warnings.style.display = 'block';\n",
       "            warnings.textContent = (\n",
       "                \"This browser does not support binary websocket messages. \" +\n",
       "                    \"Performance may be slow.\");\n",
       "        }\n",
       "    }\n",
       "\n",
       "    this.imageObj = new Image();\n",
       "\n",
       "    this.context = undefined;\n",
       "    this.message = undefined;\n",
       "    this.canvas = undefined;\n",
       "    this.rubberband_canvas = undefined;\n",
       "    this.rubberband_context = undefined;\n",
       "    this.format_dropdown = undefined;\n",
       "\n",
       "    this.image_mode = 'full';\n",
       "\n",
       "    this.root = $('<div/>');\n",
       "    this._root_extra_style(this.root)\n",
       "    this.root.attr('style', 'display: inline-block');\n",
       "\n",
       "    $(parent_element).append(this.root);\n",
       "\n",
       "    this._init_header(this);\n",
       "    this._init_canvas(this);\n",
       "    this._init_toolbar(this);\n",
       "\n",
       "    var fig = this;\n",
       "\n",
       "    this.waiting = false;\n",
       "\n",
       "    this.ws.onopen =  function () {\n",
       "            fig.send_message(\"supports_binary\", {value: fig.supports_binary});\n",
       "            fig.send_message(\"send_image_mode\", {});\n",
       "            if (mpl.ratio != 1) {\n",
       "                fig.send_message(\"set_dpi_ratio\", {'dpi_ratio': mpl.ratio});\n",
       "            }\n",
       "            fig.send_message(\"refresh\", {});\n",
       "        }\n",
       "\n",
       "    this.imageObj.onload = function() {\n",
       "            if (fig.image_mode == 'full') {\n",
       "                // Full images could contain transparency (where diff images\n",
       "                // almost always do), so we need to clear the canvas so that\n",
       "                // there is no ghosting.\n",
       "                fig.context.clearRect(0, 0, fig.canvas.width, fig.canvas.height);\n",
       "            }\n",
       "            fig.context.drawImage(fig.imageObj, 0, 0);\n",
       "        };\n",
       "\n",
       "    this.imageObj.onunload = function() {\n",
       "        this.ws.close();\n",
       "    }\n",
       "\n",
       "    this.ws.onmessage = this._make_on_message_function(this);\n",
       "\n",
       "    this.ondownload = ondownload;\n",
       "}\n",
       "\n",
       "mpl.figure.prototype._init_header = function() {\n",
       "    var titlebar = $(\n",
       "        '<div class=\"ui-dialog-titlebar ui-widget-header ui-corner-all ' +\n",
       "        'ui-helper-clearfix\"/>');\n",
       "    var titletext = $(\n",
       "        '<div class=\"ui-dialog-title\" style=\"width: 100%; ' +\n",
       "        'text-align: center; padding: 3px;\"/>');\n",
       "    titlebar.append(titletext)\n",
       "    this.root.append(titlebar);\n",
       "    this.header = titletext[0];\n",
       "}\n",
       "\n",
       "\n",
       "\n",
       "mpl.figure.prototype._canvas_extra_style = function(canvas_div) {\n",
       "\n",
       "}\n",
       "\n",
       "\n",
       "mpl.figure.prototype._root_extra_style = function(canvas_div) {\n",
       "\n",
       "}\n",
       "\n",
       "mpl.figure.prototype._init_canvas = function() {\n",
       "    var fig = this;\n",
       "\n",
       "    var canvas_div = $('<div/>');\n",
       "\n",
       "    canvas_div.attr('style', 'position: relative; clear: both; outline: 0');\n",
       "\n",
       "    function canvas_keyboard_event(event) {\n",
       "        return fig.key_event(event, event['data']);\n",
       "    }\n",
       "\n",
       "    canvas_div.keydown('key_press', canvas_keyboard_event);\n",
       "    canvas_div.keyup('key_release', canvas_keyboard_event);\n",
       "    this.canvas_div = canvas_div\n",
       "    this._canvas_extra_style(canvas_div)\n",
       "    this.root.append(canvas_div);\n",
       "\n",
       "    var canvas = $('<canvas/>');\n",
       "    canvas.addClass('mpl-canvas');\n",
       "    canvas.attr('style', \"left: 0; top: 0; z-index: 0; outline: 0\")\n",
       "\n",
       "    this.canvas = canvas[0];\n",
       "    this.context = canvas[0].getContext(\"2d\");\n",
       "\n",
       "    var backingStore = this.context.backingStorePixelRatio ||\n",
       "\tthis.context.webkitBackingStorePixelRatio ||\n",
       "\tthis.context.mozBackingStorePixelRatio ||\n",
       "\tthis.context.msBackingStorePixelRatio ||\n",
       "\tthis.context.oBackingStorePixelRatio ||\n",
       "\tthis.context.backingStorePixelRatio || 1;\n",
       "\n",
       "    mpl.ratio = (window.devicePixelRatio || 1) / backingStore;\n",
       "\n",
       "    var rubberband = $('<canvas/>');\n",
       "    rubberband.attr('style', \"position: absolute; left: 0; top: 0; z-index: 1;\")\n",
       "\n",
       "    var pass_mouse_events = true;\n",
       "\n",
       "    canvas_div.resizable({\n",
       "        start: function(event, ui) {\n",
       "            pass_mouse_events = false;\n",
       "        },\n",
       "        resize: function(event, ui) {\n",
       "            fig.request_resize(ui.size.width, ui.size.height);\n",
       "        },\n",
       "        stop: function(event, ui) {\n",
       "            pass_mouse_events = true;\n",
       "            fig.request_resize(ui.size.width, ui.size.height);\n",
       "        },\n",
       "    });\n",
       "\n",
       "    function mouse_event_fn(event) {\n",
       "        if (pass_mouse_events)\n",
       "            return fig.mouse_event(event, event['data']);\n",
       "    }\n",
       "\n",
       "    rubberband.mousedown('button_press', mouse_event_fn);\n",
       "    rubberband.mouseup('button_release', mouse_event_fn);\n",
       "    // Throttle sequential mouse events to 1 every 20ms.\n",
       "    rubberband.mousemove('motion_notify', mouse_event_fn);\n",
       "\n",
       "    rubberband.mouseenter('figure_enter', mouse_event_fn);\n",
       "    rubberband.mouseleave('figure_leave', mouse_event_fn);\n",
       "\n",
       "    canvas_div.on(\"wheel\", function (event) {\n",
       "        event = event.originalEvent;\n",
       "        event['data'] = 'scroll'\n",
       "        if (event.deltaY < 0) {\n",
       "            event.step = 1;\n",
       "        } else {\n",
       "            event.step = -1;\n",
       "        }\n",
       "        mouse_event_fn(event);\n",
       "    });\n",
       "\n",
       "    canvas_div.append(canvas);\n",
       "    canvas_div.append(rubberband);\n",
       "\n",
       "    this.rubberband = rubberband;\n",
       "    this.rubberband_canvas = rubberband[0];\n",
       "    this.rubberband_context = rubberband[0].getContext(\"2d\");\n",
       "    this.rubberband_context.strokeStyle = \"#000000\";\n",
       "\n",
       "    this._resize_canvas = function(width, height) {\n",
       "        // Keep the size of the canvas, canvas container, and rubber band\n",
       "        // canvas in synch.\n",
       "        canvas_div.css('width', width)\n",
       "        canvas_div.css('height', height)\n",
       "\n",
       "        canvas.attr('width', width * mpl.ratio);\n",
       "        canvas.attr('height', height * mpl.ratio);\n",
       "        canvas.attr('style', 'width: ' + width + 'px; height: ' + height + 'px;');\n",
       "\n",
       "        rubberband.attr('width', width);\n",
       "        rubberband.attr('height', height);\n",
       "    }\n",
       "\n",
       "    // Set the figure to an initial 600x600px, this will subsequently be updated\n",
       "    // upon first draw.\n",
       "    this._resize_canvas(600, 600);\n",
       "\n",
       "    // Disable right mouse context menu.\n",
       "    $(this.rubberband_canvas).bind(\"contextmenu\",function(e){\n",
       "        return false;\n",
       "    });\n",
       "\n",
       "    function set_focus () {\n",
       "        canvas.focus();\n",
       "        canvas_div.focus();\n",
       "    }\n",
       "\n",
       "    window.setTimeout(set_focus, 100);\n",
       "}\n",
       "\n",
       "mpl.figure.prototype._init_toolbar = function() {\n",
       "    var fig = this;\n",
       "\n",
       "    var nav_element = $('<div/>')\n",
       "    nav_element.attr('style', 'width: 100%');\n",
       "    this.root.append(nav_element);\n",
       "\n",
       "    // Define a callback function for later on.\n",
       "    function toolbar_event(event) {\n",
       "        return fig.toolbar_button_onclick(event['data']);\n",
       "    }\n",
       "    function toolbar_mouse_event(event) {\n",
       "        return fig.toolbar_button_onmouseover(event['data']);\n",
       "    }\n",
       "\n",
       "    for(var toolbar_ind in mpl.toolbar_items) {\n",
       "        var name = mpl.toolbar_items[toolbar_ind][0];\n",
       "        var tooltip = mpl.toolbar_items[toolbar_ind][1];\n",
       "        var image = mpl.toolbar_items[toolbar_ind][2];\n",
       "        var method_name = mpl.toolbar_items[toolbar_ind][3];\n",
       "\n",
       "        if (!name) {\n",
       "            // put a spacer in here.\n",
       "            continue;\n",
       "        }\n",
       "        var button = $('<button/>');\n",
       "        button.addClass('ui-button ui-widget ui-state-default ui-corner-all ' +\n",
       "                        'ui-button-icon-only');\n",
       "        button.attr('role', 'button');\n",
       "        button.attr('aria-disabled', 'false');\n",
       "        button.click(method_name, toolbar_event);\n",
       "        button.mouseover(tooltip, toolbar_mouse_event);\n",
       "\n",
       "        var icon_img = $('<span/>');\n",
       "        icon_img.addClass('ui-button-icon-primary ui-icon');\n",
       "        icon_img.addClass(image);\n",
       "        icon_img.addClass('ui-corner-all');\n",
       "\n",
       "        var tooltip_span = $('<span/>');\n",
       "        tooltip_span.addClass('ui-button-text');\n",
       "        tooltip_span.html(tooltip);\n",
       "\n",
       "        button.append(icon_img);\n",
       "        button.append(tooltip_span);\n",
       "\n",
       "        nav_element.append(button);\n",
       "    }\n",
       "\n",
       "    var fmt_picker_span = $('<span/>');\n",
       "\n",
       "    var fmt_picker = $('<select/>');\n",
       "    fmt_picker.addClass('mpl-toolbar-option ui-widget ui-widget-content');\n",
       "    fmt_picker_span.append(fmt_picker);\n",
       "    nav_element.append(fmt_picker_span);\n",
       "    this.format_dropdown = fmt_picker[0];\n",
       "\n",
       "    for (var ind in mpl.extensions) {\n",
       "        var fmt = mpl.extensions[ind];\n",
       "        var option = $(\n",
       "            '<option/>', {selected: fmt === mpl.default_extension}).html(fmt);\n",
       "        fmt_picker.append(option)\n",
       "    }\n",
       "\n",
       "    // Add hover states to the ui-buttons\n",
       "    $( \".ui-button\" ).hover(\n",
       "        function() { $(this).addClass(\"ui-state-hover\");},\n",
       "        function() { $(this).removeClass(\"ui-state-hover\");}\n",
       "    );\n",
       "\n",
       "    var status_bar = $('<span class=\"mpl-message\"/>');\n",
       "    nav_element.append(status_bar);\n",
       "    this.message = status_bar[0];\n",
       "}\n",
       "\n",
       "mpl.figure.prototype.request_resize = function(x_pixels, y_pixels) {\n",
       "    // Request matplotlib to resize the figure. Matplotlib will then trigger a resize in the client,\n",
       "    // which will in turn request a refresh of the image.\n",
       "    this.send_message('resize', {'width': x_pixels, 'height': y_pixels});\n",
       "}\n",
       "\n",
       "mpl.figure.prototype.send_message = function(type, properties) {\n",
       "    properties['type'] = type;\n",
       "    properties['figure_id'] = this.id;\n",
       "    this.ws.send(JSON.stringify(properties));\n",
       "}\n",
       "\n",
       "mpl.figure.prototype.send_draw_message = function() {\n",
       "    if (!this.waiting) {\n",
       "        this.waiting = true;\n",
       "        this.ws.send(JSON.stringify({type: \"draw\", figure_id: this.id}));\n",
       "    }\n",
       "}\n",
       "\n",
       "\n",
       "mpl.figure.prototype.handle_save = function(fig, msg) {\n",
       "    var format_dropdown = fig.format_dropdown;\n",
       "    var format = format_dropdown.options[format_dropdown.selectedIndex].value;\n",
       "    fig.ondownload(fig, format);\n",
       "}\n",
       "\n",
       "\n",
       "mpl.figure.prototype.handle_resize = function(fig, msg) {\n",
       "    var size = msg['size'];\n",
       "    if (size[0] != fig.canvas.width || size[1] != fig.canvas.height) {\n",
       "        fig._resize_canvas(size[0], size[1]);\n",
       "        fig.send_message(\"refresh\", {});\n",
       "    };\n",
       "}\n",
       "\n",
       "mpl.figure.prototype.handle_rubberband = function(fig, msg) {\n",
       "    var x0 = msg['x0'] / mpl.ratio;\n",
       "    var y0 = (fig.canvas.height - msg['y0']) / mpl.ratio;\n",
       "    var x1 = msg['x1'] / mpl.ratio;\n",
       "    var y1 = (fig.canvas.height - msg['y1']) / mpl.ratio;\n",
       "    x0 = Math.floor(x0) + 0.5;\n",
       "    y0 = Math.floor(y0) + 0.5;\n",
       "    x1 = Math.floor(x1) + 0.5;\n",
       "    y1 = Math.floor(y1) + 0.5;\n",
       "    var min_x = Math.min(x0, x1);\n",
       "    var min_y = Math.min(y0, y1);\n",
       "    var width = Math.abs(x1 - x0);\n",
       "    var height = Math.abs(y1 - y0);\n",
       "\n",
       "    fig.rubberband_context.clearRect(\n",
       "        0, 0, fig.canvas.width, fig.canvas.height);\n",
       "\n",
       "    fig.rubberband_context.strokeRect(min_x, min_y, width, height);\n",
       "}\n",
       "\n",
       "mpl.figure.prototype.handle_figure_label = function(fig, msg) {\n",
       "    // Updates the figure title.\n",
       "    fig.header.textContent = msg['label'];\n",
       "}\n",
       "\n",
       "mpl.figure.prototype.handle_cursor = function(fig, msg) {\n",
       "    var cursor = msg['cursor'];\n",
       "    switch(cursor)\n",
       "    {\n",
       "    case 0:\n",
       "        cursor = 'pointer';\n",
       "        break;\n",
       "    case 1:\n",
       "        cursor = 'default';\n",
       "        break;\n",
       "    case 2:\n",
       "        cursor = 'crosshair';\n",
       "        break;\n",
       "    case 3:\n",
       "        cursor = 'move';\n",
       "        break;\n",
       "    }\n",
       "    fig.rubberband_canvas.style.cursor = cursor;\n",
       "}\n",
       "\n",
       "mpl.figure.prototype.handle_message = function(fig, msg) {\n",
       "    fig.message.textContent = msg['message'];\n",
       "}\n",
       "\n",
       "mpl.figure.prototype.handle_draw = function(fig, msg) {\n",
       "    // Request the server to send over a new figure.\n",
       "    fig.send_draw_message();\n",
       "}\n",
       "\n",
       "mpl.figure.prototype.handle_image_mode = function(fig, msg) {\n",
       "    fig.image_mode = msg['mode'];\n",
       "}\n",
       "\n",
       "mpl.figure.prototype.updated_canvas_event = function() {\n",
       "    // Called whenever the canvas gets updated.\n",
       "    this.send_message(\"ack\", {});\n",
       "}\n",
       "\n",
       "// A function to construct a web socket function for onmessage handling.\n",
       "// Called in the figure constructor.\n",
       "mpl.figure.prototype._make_on_message_function = function(fig) {\n",
       "    return function socket_on_message(evt) {\n",
       "        if (evt.data instanceof Blob) {\n",
       "            /* FIXME: We get \"Resource interpreted as Image but\n",
       "             * transferred with MIME type text/plain:\" errors on\n",
       "             * Chrome.  But how to set the MIME type?  It doesn't seem\n",
       "             * to be part of the websocket stream */\n",
       "            evt.data.type = \"image/png\";\n",
       "\n",
       "            /* Free the memory for the previous frames */\n",
       "            if (fig.imageObj.src) {\n",
       "                (window.URL || window.webkitURL).revokeObjectURL(\n",
       "                    fig.imageObj.src);\n",
       "            }\n",
       "\n",
       "            fig.imageObj.src = (window.URL || window.webkitURL).createObjectURL(\n",
       "                evt.data);\n",
       "            fig.updated_canvas_event();\n",
       "            fig.waiting = false;\n",
       "            return;\n",
       "        }\n",
       "        else if (typeof evt.data === 'string' && evt.data.slice(0, 21) == \"data:image/png;base64\") {\n",
       "            fig.imageObj.src = evt.data;\n",
       "            fig.updated_canvas_event();\n",
       "            fig.waiting = false;\n",
       "            return;\n",
       "        }\n",
       "\n",
       "        var msg = JSON.parse(evt.data);\n",
       "        var msg_type = msg['type'];\n",
       "\n",
       "        // Call the  \"handle_{type}\" callback, which takes\n",
       "        // the figure and JSON message as its only arguments.\n",
       "        try {\n",
       "            var callback = fig[\"handle_\" + msg_type];\n",
       "        } catch (e) {\n",
       "            console.log(\"No handler for the '\" + msg_type + \"' message type: \", msg);\n",
       "            return;\n",
       "        }\n",
       "\n",
       "        if (callback) {\n",
       "            try {\n",
       "                // console.log(\"Handling '\" + msg_type + \"' message: \", msg);\n",
       "                callback(fig, msg);\n",
       "            } catch (e) {\n",
       "                console.log(\"Exception inside the 'handler_\" + msg_type + \"' callback:\", e, e.stack, msg);\n",
       "            }\n",
       "        }\n",
       "    };\n",
       "}\n",
       "\n",
       "// from http://stackoverflow.com/questions/1114465/getting-mouse-location-in-canvas\n",
       "mpl.findpos = function(e) {\n",
       "    //this section is from http://www.quirksmode.org/js/events_properties.html\n",
       "    var targ;\n",
       "    if (!e)\n",
       "        e = window.event;\n",
       "    if (e.target)\n",
       "        targ = e.target;\n",
       "    else if (e.srcElement)\n",
       "        targ = e.srcElement;\n",
       "    if (targ.nodeType == 3) // defeat Safari bug\n",
       "        targ = targ.parentNode;\n",
       "\n",
       "    // jQuery normalizes the pageX and pageY\n",
       "    // pageX,Y are the mouse positions relative to the document\n",
       "    // offset() returns the position of the element relative to the document\n",
       "    var x = e.pageX - $(targ).offset().left;\n",
       "    var y = e.pageY - $(targ).offset().top;\n",
       "\n",
       "    return {\"x\": x, \"y\": y};\n",
       "};\n",
       "\n",
       "/*\n",
       " * return a copy of an object with only non-object keys\n",
       " * we need this to avoid circular references\n",
       " * http://stackoverflow.com/a/24161582/3208463\n",
       " */\n",
       "function simpleKeys (original) {\n",
       "  return Object.keys(original).reduce(function (obj, key) {\n",
       "    if (typeof original[key] !== 'object')\n",
       "        obj[key] = original[key]\n",
       "    return obj;\n",
       "  }, {});\n",
       "}\n",
       "\n",
       "mpl.figure.prototype.mouse_event = function(event, name) {\n",
       "    var canvas_pos = mpl.findpos(event)\n",
       "\n",
       "    if (name === 'button_press')\n",
       "    {\n",
       "        this.canvas.focus();\n",
       "        this.canvas_div.focus();\n",
       "    }\n",
       "\n",
       "    var x = canvas_pos.x * mpl.ratio;\n",
       "    var y = canvas_pos.y * mpl.ratio;\n",
       "\n",
       "    this.send_message(name, {x: x, y: y, button: event.button,\n",
       "                             step: event.step,\n",
       "                             guiEvent: simpleKeys(event)});\n",
       "\n",
       "    /* This prevents the web browser from automatically changing to\n",
       "     * the text insertion cursor when the button is pressed.  We want\n",
       "     * to control all of the cursor setting manually through the\n",
       "     * 'cursor' event from matplotlib */\n",
       "    event.preventDefault();\n",
       "    return false;\n",
       "}\n",
       "\n",
       "mpl.figure.prototype._key_event_extra = function(event, name) {\n",
       "    // Handle any extra behaviour associated with a key event\n",
       "}\n",
       "\n",
       "mpl.figure.prototype.key_event = function(event, name) {\n",
       "\n",
       "    // Prevent repeat events\n",
       "    if (name == 'key_press')\n",
       "    {\n",
       "        if (event.which === this._key)\n",
       "            return;\n",
       "        else\n",
       "            this._key = event.which;\n",
       "    }\n",
       "    if (name == 'key_release')\n",
       "        this._key = null;\n",
       "\n",
       "    var value = '';\n",
       "    if (event.ctrlKey && event.which != 17)\n",
       "        value += \"ctrl+\";\n",
       "    if (event.altKey && event.which != 18)\n",
       "        value += \"alt+\";\n",
       "    if (event.shiftKey && event.which != 16)\n",
       "        value += \"shift+\";\n",
       "\n",
       "    value += 'k';\n",
       "    value += event.which.toString();\n",
       "\n",
       "    this._key_event_extra(event, name);\n",
       "\n",
       "    this.send_message(name, {key: value,\n",
       "                             guiEvent: simpleKeys(event)});\n",
       "    return false;\n",
       "}\n",
       "\n",
       "mpl.figure.prototype.toolbar_button_onclick = function(name) {\n",
       "    if (name == 'download') {\n",
       "        this.handle_save(this, null);\n",
       "    } else {\n",
       "        this.send_message(\"toolbar_button\", {name: name});\n",
       "    }\n",
       "};\n",
       "\n",
       "mpl.figure.prototype.toolbar_button_onmouseover = function(tooltip) {\n",
       "    this.message.textContent = tooltip;\n",
       "};\n",
       "mpl.toolbar_items = [[\"Home\", \"Reset original view\", \"fa fa-home icon-home\", \"home\"], [\"Back\", \"Back to  previous view\", \"fa fa-arrow-left icon-arrow-left\", \"back\"], [\"Forward\", \"Forward to next view\", \"fa fa-arrow-right icon-arrow-right\", \"forward\"], [\"\", \"\", \"\", \"\"], [\"Pan\", \"Pan axes with left mouse, zoom with right\", \"fa fa-arrows icon-move\", \"pan\"], [\"Zoom\", \"Zoom to rectangle\", \"fa fa-square-o icon-check-empty\", \"zoom\"], [\"\", \"\", \"\", \"\"], [\"Download\", \"Download plot\", \"fa fa-floppy-o icon-save\", \"download\"]];\n",
       "\n",
       "mpl.extensions = [\"eps\", \"jpeg\", \"pdf\", \"png\", \"ps\", \"raw\", \"svg\", \"tif\"];\n",
       "\n",
       "mpl.default_extension = \"png\";var comm_websocket_adapter = function(comm) {\n",
       "    // Create a \"websocket\"-like object which calls the given IPython comm\n",
       "    // object with the appropriate methods. Currently this is a non binary\n",
       "    // socket, so there is still some room for performance tuning.\n",
       "    var ws = {};\n",
       "\n",
       "    ws.close = function() {\n",
       "        comm.close()\n",
       "    };\n",
       "    ws.send = function(m) {\n",
       "        //console.log('sending', m);\n",
       "        comm.send(m);\n",
       "    };\n",
       "    // Register the callback with on_msg.\n",
       "    comm.on_msg(function(msg) {\n",
       "        //console.log('receiving', msg['content']['data'], msg);\n",
       "        // Pass the mpl event to the overriden (by mpl) onmessage function.\n",
       "        ws.onmessage(msg['content']['data'])\n",
       "    });\n",
       "    return ws;\n",
       "}\n",
       "\n",
       "mpl.mpl_figure_comm = function(comm, msg) {\n",
       "    // This is the function which gets called when the mpl process\n",
       "    // starts-up an IPython Comm through the \"matplotlib\" channel.\n",
       "\n",
       "    var id = msg.content.data.id;\n",
       "    // Get hold of the div created by the display call when the Comm\n",
       "    // socket was opened in Python.\n",
       "    var element = $(\"#\" + id);\n",
       "    var ws_proxy = comm_websocket_adapter(comm)\n",
       "\n",
       "    function ondownload(figure, format) {\n",
       "        window.open(figure.imageObj.src);\n",
       "    }\n",
       "\n",
       "    var fig = new mpl.figure(id, ws_proxy,\n",
       "                           ondownload,\n",
       "                           element.get(0));\n",
       "\n",
       "    // Call onopen now - mpl needs it, as it is assuming we've passed it a real\n",
       "    // web socket which is closed, not our websocket->open comm proxy.\n",
       "    ws_proxy.onopen();\n",
       "\n",
       "    fig.parent_element = element.get(0);\n",
       "    fig.cell_info = mpl.find_output_cell(\"<div id='\" + id + \"'></div>\");\n",
       "    if (!fig.cell_info) {\n",
       "        console.error(\"Failed to find cell for figure\", id, fig);\n",
       "        return;\n",
       "    }\n",
       "\n",
       "    var output_index = fig.cell_info[2]\n",
       "    var cell = fig.cell_info[0];\n",
       "\n",
       "};\n",
       "\n",
       "mpl.figure.prototype.handle_close = function(fig, msg) {\n",
       "    var width = fig.canvas.width/mpl.ratio\n",
       "    fig.root.unbind('remove')\n",
       "\n",
       "    // Update the output cell to use the data from the current canvas.\n",
       "    fig.push_to_output();\n",
       "    var dataURL = fig.canvas.toDataURL();\n",
       "    // Re-enable the keyboard manager in IPython - without this line, in FF,\n",
       "    // the notebook keyboard shortcuts fail.\n",
       "    IPython.keyboard_manager.enable()\n",
       "    $(fig.parent_element).html('<img src=\"' + dataURL + '\" width=\"' + width + '\">');\n",
       "    fig.close_ws(fig, msg);\n",
       "}\n",
       "\n",
       "mpl.figure.prototype.close_ws = function(fig, msg){\n",
       "    fig.send_message('closing', msg);\n",
       "    // fig.ws.close()\n",
       "}\n",
       "\n",
       "mpl.figure.prototype.push_to_output = function(remove_interactive) {\n",
       "    // Turn the data on the canvas into data in the output cell.\n",
       "    var width = this.canvas.width/mpl.ratio\n",
       "    var dataURL = this.canvas.toDataURL();\n",
       "    this.cell_info[1]['text/html'] = '<img src=\"' + dataURL + '\" width=\"' + width + '\">';\n",
       "}\n",
       "\n",
       "mpl.figure.prototype.updated_canvas_event = function() {\n",
       "    // Tell IPython that the notebook contents must change.\n",
       "    IPython.notebook.set_dirty(true);\n",
       "    this.send_message(\"ack\", {});\n",
       "    var fig = this;\n",
       "    // Wait a second, then push the new image to the DOM so\n",
       "    // that it is saved nicely (might be nice to debounce this).\n",
       "    setTimeout(function () { fig.push_to_output() }, 1000);\n",
       "}\n",
       "\n",
       "mpl.figure.prototype._init_toolbar = function() {\n",
       "    var fig = this;\n",
       "\n",
       "    var nav_element = $('<div/>')\n",
       "    nav_element.attr('style', 'width: 100%');\n",
       "    this.root.append(nav_element);\n",
       "\n",
       "    // Define a callback function for later on.\n",
       "    function toolbar_event(event) {\n",
       "        return fig.toolbar_button_onclick(event['data']);\n",
       "    }\n",
       "    function toolbar_mouse_event(event) {\n",
       "        return fig.toolbar_button_onmouseover(event['data']);\n",
       "    }\n",
       "\n",
       "    for(var toolbar_ind in mpl.toolbar_items){\n",
       "        var name = mpl.toolbar_items[toolbar_ind][0];\n",
       "        var tooltip = mpl.toolbar_items[toolbar_ind][1];\n",
       "        var image = mpl.toolbar_items[toolbar_ind][2];\n",
       "        var method_name = mpl.toolbar_items[toolbar_ind][3];\n",
       "\n",
       "        if (!name) { continue; };\n",
       "\n",
       "        var button = $('<button class=\"btn btn-default\" href=\"#\" title=\"' + name + '\"><i class=\"fa ' + image + ' fa-lg\"></i></button>');\n",
       "        button.click(method_name, toolbar_event);\n",
       "        button.mouseover(tooltip, toolbar_mouse_event);\n",
       "        nav_element.append(button);\n",
       "    }\n",
       "\n",
       "    // Add the status bar.\n",
       "    var status_bar = $('<span class=\"mpl-message\" style=\"text-align:right; float: right;\"/>');\n",
       "    nav_element.append(status_bar);\n",
       "    this.message = status_bar[0];\n",
       "\n",
       "    // Add the close button to the window.\n",
       "    var buttongrp = $('<div class=\"btn-group inline pull-right\"></div>');\n",
       "    var button = $('<button class=\"btn btn-mini btn-primary\" href=\"#\" title=\"Stop Interaction\"><i class=\"fa fa-power-off icon-remove icon-large\"></i></button>');\n",
       "    button.click(function (evt) { fig.handle_close(fig, {}); } );\n",
       "    button.mouseover('Stop Interaction', toolbar_mouse_event);\n",
       "    buttongrp.append(button);\n",
       "    var titlebar = this.root.find($('.ui-dialog-titlebar'));\n",
       "    titlebar.prepend(buttongrp);\n",
       "}\n",
       "\n",
       "mpl.figure.prototype._root_extra_style = function(el){\n",
       "    var fig = this\n",
       "    el.on(\"remove\", function(){\n",
       "\tfig.close_ws(fig, {});\n",
       "    });\n",
       "}\n",
       "\n",
       "mpl.figure.prototype._canvas_extra_style = function(el){\n",
       "    // this is important to make the div 'focusable\n",
       "    el.attr('tabindex', 0)\n",
       "    // reach out to IPython and tell the keyboard manager to turn it's self\n",
       "    // off when our div gets focus\n",
       "\n",
       "    // location in version 3\n",
       "    if (IPython.notebook.keyboard_manager) {\n",
       "        IPython.notebook.keyboard_manager.register_events(el);\n",
       "    }\n",
       "    else {\n",
       "        // location in version 2\n",
       "        IPython.keyboard_manager.register_events(el);\n",
       "    }\n",
       "\n",
       "}\n",
       "\n",
       "mpl.figure.prototype._key_event_extra = function(event, name) {\n",
       "    var manager = IPython.notebook.keyboard_manager;\n",
       "    if (!manager)\n",
       "        manager = IPython.keyboard_manager;\n",
       "\n",
       "    // Check for shift+enter\n",
       "    if (event.shiftKey && event.which == 13) {\n",
       "        this.canvas_div.blur();\n",
       "        // select the cell after this one\n",
       "        var index = IPython.notebook.find_cell_index(this.cell_info[0]);\n",
       "        IPython.notebook.select(index + 1);\n",
       "    }\n",
       "}\n",
       "\n",
       "mpl.figure.prototype.handle_save = function(fig, msg) {\n",
       "    fig.ondownload(fig, null);\n",
       "}\n",
       "\n",
       "\n",
       "mpl.find_output_cell = function(html_output) {\n",
       "    // Return the cell and output element which can be found *uniquely* in the notebook.\n",
       "    // Note - this is a bit hacky, but it is done because the \"notebook_saving.Notebook\"\n",
       "    // IPython event is triggered only after the cells have been serialised, which for\n",
       "    // our purposes (turning an active figure into a static one), is too late.\n",
       "    var cells = IPython.notebook.get_cells();\n",
       "    var ncells = cells.length;\n",
       "    for (var i=0; i<ncells; i++) {\n",
       "        var cell = cells[i];\n",
       "        if (cell.cell_type === 'code'){\n",
       "            for (var j=0; j<cell.output_area.outputs.length; j++) {\n",
       "                var data = cell.output_area.outputs[j];\n",
       "                if (data.data) {\n",
       "                    // IPython >= 3 moved mimebundle to data attribute of output\n",
       "                    data = data.data;\n",
       "                }\n",
       "                if (data['text/html'] == html_output) {\n",
       "                    return [cell, data, j];\n",
       "                }\n",
       "            }\n",
       "        }\n",
       "    }\n",
       "}\n",
       "\n",
       "// Register the function which deals with the matplotlib target/channel.\n",
       "// The kernel may be null if the page has been refreshed.\n",
       "if (IPython.notebook.kernel != null) {\n",
       "    IPython.notebook.kernel.comm_manager.register_target('matplotlib', mpl.mpl_figure_comm);\n",
       "}\n"
      ],
      "text/plain": [
       "<IPython.core.display.Javascript object>"
      ]
     },
     "metadata": {},
     "output_type": "display_data"
    },
    {
     "data": {
      "text/html": [
       "<img src=\"data:image/png;base64,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\" width=\"1000\">"
      ],
      "text/plain": [
       "<IPython.core.display.HTML object>"
      ]
     },
     "metadata": {},
     "output_type": "display_data"
    },
    {
     "data": {
      "text/plain": [
       "<matplotlib.axes._subplots.AxesSubplot at 0x1e5ba7115c0>"
      ]
     },
     "execution_count": 246,
     "metadata": {},
     "output_type": "execute_result"
    }
   ],
   "source": [
    "df_cm = pd.DataFrame(cm, index = [\"Goal\", \"Foul\", \"Substitution\", \"No Event\"],\n",
    "                  columns = [\"Goal\", \"Foul\", \"Substitution\", \"No Event\"])\n",
    "plt.figure(figsize = (10,7))\n",
    "sn.heatmap(df_cm, annot=True)"
   ]
  },
  {
   "cell_type": "code",
   "execution_count": 165,
   "metadata": {},
   "outputs": [
    {
     "data": {
      "text/plain": [
       "array([[-3.01608181e+00,  3.41025925e+00, -8.85318661e+00, ...,\n",
       "        -1.12355955e-01, -9.88026485e-02, -4.64992821e-01],\n",
       "       [ 1.47220716e+01, -4.60904789e+00, -8.44530582e+00, ...,\n",
       "         3.67977560e-01, -3.77899647e-01,  7.65661374e-02],\n",
       "       [ 1.28598127e+01, -7.36556232e-01, -1.36307917e+01, ...,\n",
       "         3.12246084e-01,  3.87911201e-01,  4.63178664e-01],\n",
       "       ...,\n",
       "       [-2.28113365e+01, -4.24127913e+00,  3.50485849e+00, ...,\n",
       "        -2.31165299e-03,  2.55263239e-01, -2.39848405e-01],\n",
       "       [-2.45080414e+01, -3.03113723e+00,  1.03568993e+01, ...,\n",
       "         2.83799589e-01,  5.52050769e-01, -2.45497786e-02],\n",
       "       [-2.41111870e+01,  7.12151337e+00, -1.86726642e+00, ...,\n",
       "         5.17653488e-02, -6.58603311e-02, -9.56835523e-02]])"
      ]
     },
     "execution_count": 165,
     "metadata": {},
     "output_type": "execute_result"
    }
   ],
   "source": [
    "X_train"
   ]
  },
  {
   "cell_type": "code",
   "execution_count": 252,
   "metadata": {},
   "outputs": [
    {
     "data": {
      "text/plain": [
       "array([[382,   7, 101, 106],\n",
       "       [ 11, 549,  11,   4],\n",
       "       [ 47,  14, 418,  71],\n",
       "       [ 70,   5,  71, 440]], dtype=int64)"
      ]
     },
     "execution_count": 252,
     "metadata": {},
     "output_type": "execute_result"
    }
   ],
   "source": [
    "cm"
   ]
  },
  {
   "cell_type": "code",
   "execution_count": 253,
   "metadata": {},
   "outputs": [
    {
     "data": {
      "text/plain": [
       "array([510, 575, 601, 621], dtype=int64)"
      ]
     },
     "execution_count": 253,
     "metadata": {},
     "output_type": "execute_result"
    }
   ],
   "source": [
    "cm.sum(axis = 0)"
   ]
  },
  {
   "cell_type": "code",
   "execution_count": null,
   "metadata": {
    "collapsed": true
   },
   "outputs": [],
   "source": []
  }
 ],
 "metadata": {
  "kernelspec": {
   "display_name": "Python 3",
   "language": "python",
   "name": "python3"
  },
  "language_info": {
   "codemirror_mode": {
    "name": "ipython",
    "version": 3
   },
   "file_extension": ".py",
   "mimetype": "text/x-python",
   "name": "python",
   "nbconvert_exporter": "python",
   "pygments_lexer": "ipython3",
   "version": "3.6.3"
  }
 },
 "nbformat": 4,
 "nbformat_minor": 2
}
